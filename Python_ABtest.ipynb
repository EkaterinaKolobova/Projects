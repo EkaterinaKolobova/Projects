{
 "cells": [
  {
   "cell_type": "markdown",
   "metadata": {},
   "source": [
    "# Проект: вариант 2\n",
    "### Задание 1. A/B–тестирование\n",
    "#### 1.1 Условие\n",
    "\n",
    "Одной из основных задач аналитика в нашей команде является корректное проведение экспериментов. Для этого мы применяем метод A/B–тестирования. В ходе тестирования одной гипотезы целевой группе была предложена новая механика оплаты услуг на сайте, у контрольной группы оставалась базовая механика. В качестве задания Вам необходимо проанализировать итоги эксперимента и сделать вывод, стоит ли запускать новую механику оплаты на всех пользователей.\n",
    "\n",
    "#### 1.2 Входные данные\n",
    "\n",
    "В качестве входных данных Вы имеете 4 csv-файла:\n",
    "\n",
    "- groups.csv - файл с информацией о принадлежности пользователя к контрольной или экспериментальной группе (А – контроль, B – целевая группа) \n",
    "- groups_add.csv - дополнительный файл с пользователями, который вам прислали спустя 2 дня после передачи данных\n",
    "- active_studs.csv - файл с информацией о пользователях, которые зашли на платформу в дни проведения эксперимента. \n",
    "- checks.csv - файл с информацией об оплатах пользователей в дни проведения эксперимента. \n",
    "\n",
    "#### 1.3 Вопросы\n",
    "\n",
    "Предлагаем Вам ответить на следующие вопросы:\n",
    "\n",
    "- На какие метрики Вы смотрите в ходе анализа и почему?\n",
    "- Имеются ли различия в показателях и с чем они могут быть связаны?\n",
    "- Являются ли эти различия статистически значимыми?\n",
    "- Стоит ли запускать новую механику на всех пользователей?\n",
    "\n",
    "Данный список вопросов не является обязательным, и Вы можете при своём ответе опираться на собственный план.\n",
    "\n",
    "#### 1.4 Требования к ответу\n",
    "\n",
    "- При выполнении тестового задания необходимо использовать язык программирования Python. \n",
    "- В файле обязательно должны быть комментарии к тем действиям, которые Вы выполняете с данными. \n",
    "- Файл должен представлять собой законченный отчёт с выводами, сделанными в ходе исследования.\n",
    "\n",
    "\n",
    "\n"
   ]
  },
  {
   "cell_type": "markdown",
   "metadata": {},
   "source": [
    "## Выполнение задания\n",
    "### Получаем входные данные"
   ]
  },
  {
   "cell_type": "code",
   "execution_count": 1,
   "metadata": {},
   "outputs": [
    {
     "name": "stderr",
     "output_type": "stream",
     "text": [
      "/opt/tljh/user/lib/python3.7/site-packages/outdated/utils.py:18: OutdatedCacheFailedWarning: Failed to use cache while checking for outdated package.\n",
      "Set the environment variable OUTDATED_RAISE_EXCEPTION=1 for a full traceback.\n",
      "Set the environment variable OUTDATED_IGNORE=1 to disable these warnings.\n",
      "  **kwargs\n",
      "/opt/tljh/user/lib/python3.7/site-packages/outdated/utils.py:18: OutdatedPackageWarning: The package pingouin is out of date. Your version is 0.4.0, the latest is 0.5.4.\n",
      "Set the environment variable OUTDATED_IGNORE=1 to disable these warnings.\n",
      "  **kwargs\n",
      "/opt/tljh/user/lib/python3.7/site-packages/outdated/utils.py:18: OutdatedPackageWarning: The package outdated is out of date. Your version is 0.2.1, the latest is 0.2.2.\n",
      "Set the environment variable OUTDATED_IGNORE=1 to disable these warnings.\n",
      "  **kwargs\n"
     ]
    }
   ],
   "source": [
    "# импортруем библиотеки, которые могут понадобиться\n",
    "import pandas as pd\n",
    "import numpy as np\n",
    "import requests\n",
    "import json\n",
    "from urllib.parse import urlencode\n",
    "import pingouin as pg\n",
    "\n",
    "import seaborn as sns\n",
    "import matplotlib.pyplot as plt\n",
    "%matplotlib inline"
   ]
  },
  {
   "cell_type": "code",
   "execution_count": 2,
   "metadata": {},
   "outputs": [],
   "source": [
    "# базовый url:\n",
    "base_url = 'https://cloud-api.yandex.net/v1/disk/public/resources/download?'\n",
    "\n",
    "# создадим список с url, с которых будем закачивать данные:\n",
    "urls = ['https://disk.yandex.ru/d/UhyYx41rTt3clQ',\n",
    "        'https://disk.yandex.ru/d/Tbs44Bm6H_FwFQ',\n",
    "        'https://disk.yandex.ru/d/pH1q-VqcxXjsVA']\n",
    "\n",
    "# создадим список такой же длины, в который запишем закачанные датасеты:\n",
    "datasets=list(range(0,len(urls)))\n",
    "\n",
    "# цикл проходит по списку urls, закачивает датасеты и записывает их в список:\n",
    "for i in enumerate(urls):\n",
    "    url = base_url + urlencode(dict(public_key=i[1]))\n",
    "    response = requests.get(url)\n",
    "    download_url = response.json()['href']\n",
    "    datasets[i[0]] = pd.read_csv(download_url, sep = ';')\n",
    "       \n",
    "# достаем датасеты из списка и складываем в переменные с соответствующим названием:   \n",
    "groups = datasets[0]\n",
    "active_studs = datasets[1]\n",
    "checks = datasets[2]"
   ]
  },
  {
   "cell_type": "markdown",
   "metadata": {},
   "source": [
    "### Исследуем входные данные"
   ]
  },
  {
   "cell_type": "markdown",
   "metadata": {},
   "source": [
    "#### Таблица groups"
   ]
  },
  {
   "cell_type": "code",
   "execution_count": 3,
   "metadata": {},
   "outputs": [
    {
     "data": {
      "text/html": [
       "<div>\n",
       "<style scoped>\n",
       "    .dataframe tbody tr th:only-of-type {\n",
       "        vertical-align: middle;\n",
       "    }\n",
       "\n",
       "    .dataframe tbody tr th {\n",
       "        vertical-align: top;\n",
       "    }\n",
       "\n",
       "    .dataframe thead th {\n",
       "        text-align: right;\n",
       "    }\n",
       "</style>\n",
       "<table border=\"1\" class=\"dataframe\">\n",
       "  <thead>\n",
       "    <tr style=\"text-align: right;\">\n",
       "      <th></th>\n",
       "      <th>id</th>\n",
       "      <th>grp</th>\n",
       "    </tr>\n",
       "  </thead>\n",
       "  <tbody>\n",
       "    <tr>\n",
       "      <th>0</th>\n",
       "      <td>1489</td>\n",
       "      <td>B</td>\n",
       "    </tr>\n",
       "    <tr>\n",
       "      <th>1</th>\n",
       "      <td>1627</td>\n",
       "      <td>A</td>\n",
       "    </tr>\n",
       "    <tr>\n",
       "      <th>2</th>\n",
       "      <td>1768</td>\n",
       "      <td>B</td>\n",
       "    </tr>\n",
       "    <tr>\n",
       "      <th>3</th>\n",
       "      <td>1783</td>\n",
       "      <td>B</td>\n",
       "    </tr>\n",
       "    <tr>\n",
       "      <th>4</th>\n",
       "      <td>1794</td>\n",
       "      <td>A</td>\n",
       "    </tr>\n",
       "  </tbody>\n",
       "</table>\n",
       "</div>"
      ],
      "text/plain": [
       "     id grp\n",
       "0  1489   B\n",
       "1  1627   A\n",
       "2  1768   B\n",
       "3  1783   B\n",
       "4  1794   A"
      ]
     },
     "execution_count": 3,
     "metadata": {},
     "output_type": "execute_result"
    }
   ],
   "source": [
    "groups.head()"
   ]
  },
  {
   "cell_type": "code",
   "execution_count": 4,
   "metadata": {},
   "outputs": [
    {
     "name": "stdout",
     "output_type": "stream",
     "text": [
      "<class 'pandas.core.frame.DataFrame'>\n",
      "RangeIndex: 74484 entries, 0 to 74483\n",
      "Data columns (total 2 columns):\n",
      " #   Column  Non-Null Count  Dtype \n",
      "---  ------  --------------  ----- \n",
      " 0   id      74484 non-null  int64 \n",
      " 1   grp     74484 non-null  object\n",
      "dtypes: int64(1), object(1)\n",
      "memory usage: 1.1+ MB\n"
     ]
    }
   ],
   "source": [
    "groups.info() # null-значения отсутствуют, типы данных правильные"
   ]
  },
  {
   "cell_type": "code",
   "execution_count": 5,
   "metadata": {},
   "outputs": [
    {
     "data": {
      "text/plain": [
       "id     74484\n",
       "grp        2\n",
       "dtype: int64"
      ]
     },
     "execution_count": 5,
     "metadata": {},
     "output_type": "execute_result"
    }
   ],
   "source": [
    "groups.nunique() # все id уникальны"
   ]
  },
  {
   "cell_type": "code",
   "execution_count": 6,
   "metadata": {},
   "outputs": [
    {
     "data": {
      "text/plain": [
       "grp\n",
       "A    14671\n",
       "B    59813\n",
       "dtype: int64"
      ]
     },
     "execution_count": 6,
     "metadata": {},
     "output_type": "execute_result"
    }
   ],
   "source": [
    "groups.groupby(\"grp\").size() #сколько пользователей в каждой группе. Группы изначально существенно различаются по размеру."
   ]
  },
  {
   "cell_type": "markdown",
   "metadata": {},
   "source": [
    "#### Важно:\n",
    "Видим, что изначально пользователи поделены на неравные группы: тестовая группа в 4 раза больше контрольной. Это не самый удачный дизайн эксперимента, так как при неравном делении на группы мы проигрываем в мощности статистических тестов: она будет ниже, чем при делении на равные группы. Либо для достижения необходимой мощности потребуется проводить эксперимент дольше."
   ]
  },
  {
   "cell_type": "code",
   "execution_count": null,
   "metadata": {},
   "outputs": [],
   "source": []
  },
  {
   "cell_type": "markdown",
   "metadata": {},
   "source": [
    "#### Таблица active_studs"
   ]
  },
  {
   "cell_type": "code",
   "execution_count": 8,
   "metadata": {},
   "outputs": [
    {
     "data": {
      "text/html": [
       "<div>\n",
       "<style scoped>\n",
       "    .dataframe tbody tr th:only-of-type {\n",
       "        vertical-align: middle;\n",
       "    }\n",
       "\n",
       "    .dataframe tbody tr th {\n",
       "        vertical-align: top;\n",
       "    }\n",
       "\n",
       "    .dataframe thead th {\n",
       "        text-align: right;\n",
       "    }\n",
       "</style>\n",
       "<table border=\"1\" class=\"dataframe\">\n",
       "  <thead>\n",
       "    <tr style=\"text-align: right;\">\n",
       "      <th></th>\n",
       "      <th>student_id</th>\n",
       "    </tr>\n",
       "  </thead>\n",
       "  <tbody>\n",
       "    <tr>\n",
       "      <th>0</th>\n",
       "      <td>581585</td>\n",
       "    </tr>\n",
       "    <tr>\n",
       "      <th>1</th>\n",
       "      <td>5723133</td>\n",
       "    </tr>\n",
       "    <tr>\n",
       "      <th>2</th>\n",
       "      <td>3276743</td>\n",
       "    </tr>\n",
       "    <tr>\n",
       "      <th>3</th>\n",
       "      <td>4238589</td>\n",
       "    </tr>\n",
       "    <tr>\n",
       "      <th>4</th>\n",
       "      <td>4475369</td>\n",
       "    </tr>\n",
       "  </tbody>\n",
       "</table>\n",
       "</div>"
      ],
      "text/plain": [
       "   student_id\n",
       "0      581585\n",
       "1     5723133\n",
       "2     3276743\n",
       "3     4238589\n",
       "4     4475369"
      ]
     },
     "execution_count": 8,
     "metadata": {},
     "output_type": "execute_result"
    }
   ],
   "source": [
    "active_studs.head()"
   ]
  },
  {
   "cell_type": "code",
   "execution_count": 9,
   "metadata": {},
   "outputs": [
    {
     "name": "stdout",
     "output_type": "stream",
     "text": [
      "<class 'pandas.core.frame.DataFrame'>\n",
      "RangeIndex: 8341 entries, 0 to 8340\n",
      "Data columns (total 1 columns):\n",
      " #   Column      Non-Null Count  Dtype\n",
      "---  ------      --------------  -----\n",
      " 0   student_id  8341 non-null   int64\n",
      "dtypes: int64(1)\n",
      "memory usage: 65.3 KB\n"
     ]
    }
   ],
   "source": [
    "active_studs.info() # null-значения отсутствуют, типы данных правильные"
   ]
  },
  {
   "cell_type": "code",
   "execution_count": 10,
   "metadata": {
    "scrolled": true
   },
   "outputs": [
    {
     "data": {
      "text/plain": [
       "student_id    8341\n",
       "dtype: int64"
      ]
     },
     "execution_count": 10,
     "metadata": {},
     "output_type": "execute_result"
    }
   ],
   "source": [
    "active_studs.nunique() # все id уникальны"
   ]
  },
  {
   "cell_type": "markdown",
   "metadata": {},
   "source": [
    "#### Таблица checks"
   ]
  },
  {
   "cell_type": "code",
   "execution_count": 11,
   "metadata": {},
   "outputs": [
    {
     "data": {
      "text/html": [
       "<div>\n",
       "<style scoped>\n",
       "    .dataframe tbody tr th:only-of-type {\n",
       "        vertical-align: middle;\n",
       "    }\n",
       "\n",
       "    .dataframe tbody tr th {\n",
       "        vertical-align: top;\n",
       "    }\n",
       "\n",
       "    .dataframe thead th {\n",
       "        text-align: right;\n",
       "    }\n",
       "</style>\n",
       "<table border=\"1\" class=\"dataframe\">\n",
       "  <thead>\n",
       "    <tr style=\"text-align: right;\">\n",
       "      <th></th>\n",
       "      <th>student_id</th>\n",
       "      <th>rev</th>\n",
       "    </tr>\n",
       "  </thead>\n",
       "  <tbody>\n",
       "    <tr>\n",
       "      <th>0</th>\n",
       "      <td>1627</td>\n",
       "      <td>990.0</td>\n",
       "    </tr>\n",
       "    <tr>\n",
       "      <th>1</th>\n",
       "      <td>3185</td>\n",
       "      <td>690.0</td>\n",
       "    </tr>\n",
       "    <tr>\n",
       "      <th>2</th>\n",
       "      <td>25973</td>\n",
       "      <td>690.0</td>\n",
       "    </tr>\n",
       "    <tr>\n",
       "      <th>3</th>\n",
       "      <td>26280</td>\n",
       "      <td>690.0</td>\n",
       "    </tr>\n",
       "    <tr>\n",
       "      <th>4</th>\n",
       "      <td>100300</td>\n",
       "      <td>990.0</td>\n",
       "    </tr>\n",
       "  </tbody>\n",
       "</table>\n",
       "</div>"
      ],
      "text/plain": [
       "   student_id    rev\n",
       "0        1627  990.0\n",
       "1        3185  690.0\n",
       "2       25973  690.0\n",
       "3       26280  690.0\n",
       "4      100300  990.0"
      ]
     },
     "execution_count": 11,
     "metadata": {},
     "output_type": "execute_result"
    }
   ],
   "source": [
    "checks.head()"
   ]
  },
  {
   "cell_type": "code",
   "execution_count": 12,
   "metadata": {},
   "outputs": [
    {
     "name": "stdout",
     "output_type": "stream",
     "text": [
      "<class 'pandas.core.frame.DataFrame'>\n",
      "RangeIndex: 541 entries, 0 to 540\n",
      "Data columns (total 2 columns):\n",
      " #   Column      Non-Null Count  Dtype  \n",
      "---  ------      --------------  -----  \n",
      " 0   student_id  541 non-null    int64  \n",
      " 1   rev         541 non-null    float64\n",
      "dtypes: float64(1), int64(1)\n",
      "memory usage: 8.6 KB\n"
     ]
    }
   ],
   "source": [
    "checks.info() # null-значения отсутствуют, типы данных правильные"
   ]
  },
  {
   "cell_type": "code",
   "execution_count": 13,
   "metadata": {
    "scrolled": true
   },
   "outputs": [
    {
     "data": {
      "text/plain": [
       "student_id    541\n",
       "rev            39\n",
       "dtype: int64"
      ]
     },
     "execution_count": 13,
     "metadata": {},
     "output_type": "execute_result"
    }
   ],
   "source": [
    "checks.nunique() # все id уникальны"
   ]
  },
  {
   "cell_type": "code",
   "execution_count": 14,
   "metadata": {},
   "outputs": [
    {
     "data": {
      "text/plain": [
       "array([ 199.    ,  290.    ,  398.    ,  489.    ,  580.    ,  590.    ,\n",
       "        597.    ,  630.    ,  690.    ,  796.    ,  840.    ,  870.    ,\n",
       "        880.    ,  990.    , 1039.    , 1050.    , 1140.    , 1160.    ,\n",
       "       1180.    , 1339.    , 1388.    , 1530.    , 1729.    , 1830.    ,\n",
       "       1900.    , 1900.0001, 1968.    , 1980.    , 2099.    , 2190.    ,\n",
       "       2220.    , 2820.    , 2890.    , 2900.    , 2910.    , 3040.    ,\n",
       "       3260.    , 3660.    , 4650.    ])"
      ]
     },
     "execution_count": 14,
     "metadata": {},
     "output_type": "execute_result"
    }
   ],
   "source": [
    "checks.rev.sort_values().unique() # смотрим, какие вообще были суммы. отрицательных и нулевых сумм нет."
   ]
  },
  {
   "cell_type": "code",
   "execution_count": 15,
   "metadata": {},
   "outputs": [
    {
     "data": {
      "text/plain": [
       "array([1])"
      ]
     },
     "execution_count": 15,
     "metadata": {},
     "output_type": "execute_result"
    }
   ],
   "source": [
    "checks.groupby('student_id')\\\n",
    "        .agg({'rev':'count'})\\\n",
    "        .rev.unique() # у каждого оплатившего пользователя была ровно одна оплата"
   ]
  },
  {
   "cell_type": "code",
   "execution_count": null,
   "metadata": {},
   "outputs": [],
   "source": []
  },
  {
   "cell_type": "code",
   "execution_count": null,
   "metadata": {},
   "outputs": [],
   "source": []
  },
  {
   "cell_type": "code",
   "execution_count": null,
   "metadata": {},
   "outputs": [],
   "source": []
  },
  {
   "cell_type": "markdown",
   "metadata": {},
   "source": [
    "### Предварительная обработка"
   ]
  },
  {
   "cell_type": "markdown",
   "metadata": {},
   "source": [
    "Проверим, все ли платящие пользователи попали в список активных. \n",
    "\n",
    "Видим, что 149 заплативших в дни эксперимента пользователей не попали в список активных, то есть не заходили на сайт. "
   ]
  },
  {
   "cell_type": "code",
   "execution_count": 16,
   "metadata": {},
   "outputs": [
    {
     "data": {
      "text/plain": [
       "149"
      ]
     },
     "execution_count": 16,
     "metadata": {},
     "output_type": "execute_result"
    }
   ],
   "source": [
    "checks.query('student_id not in @active_studs.student_id').student_id.count()"
   ]
  },
  {
   "cell_type": "markdown",
   "metadata": {},
   "source": [
    "Такое возможно, если произошло списание денег по подписке, рассрочке или другим подобным ежемесячным платежам (оформленным ранее, до проведения эксперимента).\n",
    "В таком случае данные пользователи не участвовали в эксперименте, платежи необходимо удалить из расчета метрик эксперимента."
   ]
  },
  {
   "cell_type": "code",
   "execution_count": 17,
   "metadata": {},
   "outputs": [
    {
     "data": {
      "text/plain": [
       "(392, 2)"
      ]
     },
     "execution_count": 17,
     "metadata": {},
     "output_type": "execute_result"
    }
   ],
   "source": [
    "checks = checks.merge(active_studs) # удаляем платежи \"по подписке\"\n",
    "checks.shape"
   ]
  },
  {
   "cell_type": "markdown",
   "metadata": {},
   "source": [
    "Проверим, для всех ли активных и платящих пользователей есть данные о принадлежности к А/В группам.\n",
    "\n",
    "Видим, что не для всех: 13 активных пользователей и 1 платящий пользователь без пометки группы.\n",
    "Эти данные не получится учесть при расчете метрик по группам А и В. При объединении таблиц эти данные будут отрезаны."
   ]
  },
  {
   "cell_type": "code",
   "execution_count": 18,
   "metadata": {},
   "outputs": [
    {
     "name": "stdout",
     "output_type": "stream",
     "text": [
      "13  активных\n",
      "1  платящих\n"
     ]
    }
   ],
   "source": [
    "print(active_studs.query(\"student_id not in @groups.id\").student_id.count(), ' активных')\n",
    "print(checks.query(\"student_id not in @groups.id\").student_id.count(), ' платящих')"
   ]
  },
  {
   "cell_type": "markdown",
   "metadata": {},
   "source": [
    "#### Теперь объединим входные данные в единую таблицу\n",
    "К таблице groups, которая содержит список пользователей с пометкой их группы, с помощью левого джойна добавим данные по активности студентов и по оплатам."
   ]
  },
  {
   "cell_type": "code",
   "execution_count": 19,
   "metadata": {},
   "outputs": [],
   "source": [
    "data = groups.merge(active_studs, how = 'left', left_on = 'id', right_on = 'student_id')\\\n",
    "             .merge(checks, how = 'left', left_on = 'id', right_on = 'student_id')\n",
    "\n",
    "data = data.rename({'student_id_x':'active', 'student_id_y':'paying'}, axis = 1)"
   ]
  },
  {
   "cell_type": "markdown",
   "metadata": {},
   "source": [
    "Активных и платящих отметим единицей, избавимся от null."
   ]
  },
  {
   "cell_type": "code",
   "execution_count": 20,
   "metadata": {},
   "outputs": [],
   "source": [
    "data['active'] = data['active'].apply(lambda x: 1 if x > 0 else 0)\n",
    "data['paying'] = data['paying'].apply(lambda x: 1 if x > 0 else 0)\n",
    "data['rev'] = data['rev'].fillna(0)"
   ]
  },
  {
   "cell_type": "markdown",
   "metadata": {},
   "source": [
    "#### Отберем только активных пользователей, так как это те пользователи, которые заходили на сайт в дни проведения эксперимента, а значит только они участвовали в эксперименте. "
   ]
  },
  {
   "cell_type": "code",
   "execution_count": 21,
   "metadata": {},
   "outputs": [],
   "source": [
    "data = data.query('active == 1').reset_index(drop = True)"
   ]
  },
  {
   "cell_type": "code",
   "execution_count": 22,
   "metadata": {},
   "outputs": [
    {
     "data": {
      "text/html": [
       "<div>\n",
       "<style scoped>\n",
       "    .dataframe tbody tr th:only-of-type {\n",
       "        vertical-align: middle;\n",
       "    }\n",
       "\n",
       "    .dataframe tbody tr th {\n",
       "        vertical-align: top;\n",
       "    }\n",
       "\n",
       "    .dataframe thead th {\n",
       "        text-align: right;\n",
       "    }\n",
       "</style>\n",
       "<table border=\"1\" class=\"dataframe\">\n",
       "  <thead>\n",
       "    <tr style=\"text-align: right;\">\n",
       "      <th></th>\n",
       "      <th>id</th>\n",
       "      <th>grp</th>\n",
       "      <th>active</th>\n",
       "      <th>paying</th>\n",
       "      <th>rev</th>\n",
       "    </tr>\n",
       "  </thead>\n",
       "  <tbody>\n",
       "    <tr>\n",
       "      <th>0</th>\n",
       "      <td>1627</td>\n",
       "      <td>A</td>\n",
       "      <td>1</td>\n",
       "      <td>1</td>\n",
       "      <td>990.0</td>\n",
       "    </tr>\n",
       "    <tr>\n",
       "      <th>1</th>\n",
       "      <td>2085</td>\n",
       "      <td>B</td>\n",
       "      <td>1</td>\n",
       "      <td>0</td>\n",
       "      <td>0.0</td>\n",
       "    </tr>\n",
       "    <tr>\n",
       "      <th>2</th>\n",
       "      <td>2215</td>\n",
       "      <td>B</td>\n",
       "      <td>1</td>\n",
       "      <td>0</td>\n",
       "      <td>0.0</td>\n",
       "    </tr>\n",
       "    <tr>\n",
       "      <th>3</th>\n",
       "      <td>3391</td>\n",
       "      <td>A</td>\n",
       "      <td>1</td>\n",
       "      <td>0</td>\n",
       "      <td>0.0</td>\n",
       "    </tr>\n",
       "    <tr>\n",
       "      <th>4</th>\n",
       "      <td>3401</td>\n",
       "      <td>B</td>\n",
       "      <td>1</td>\n",
       "      <td>0</td>\n",
       "      <td>0.0</td>\n",
       "    </tr>\n",
       "  </tbody>\n",
       "</table>\n",
       "</div>"
      ],
      "text/plain": [
       "     id grp  active  paying    rev\n",
       "0  1627   A       1       1  990.0\n",
       "1  2085   B       1       0    0.0\n",
       "2  2215   B       1       0    0.0\n",
       "3  3391   A       1       0    0.0\n",
       "4  3401   B       1       0    0.0"
      ]
     },
     "execution_count": 22,
     "metadata": {},
     "output_type": "execute_result"
    }
   ],
   "source": [
    "data.head()"
   ]
  },
  {
   "cell_type": "code",
   "execution_count": 23,
   "metadata": {},
   "outputs": [
    {
     "name": "stdout",
     "output_type": "stream",
     "text": [
      "<class 'pandas.core.frame.DataFrame'>\n",
      "RangeIndex: 8328 entries, 0 to 8327\n",
      "Data columns (total 5 columns):\n",
      " #   Column  Non-Null Count  Dtype  \n",
      "---  ------  --------------  -----  \n",
      " 0   id      8328 non-null   int64  \n",
      " 1   grp     8328 non-null   object \n",
      " 2   active  8328 non-null   int64  \n",
      " 3   paying  8328 non-null   int64  \n",
      " 4   rev     8328 non-null   float64\n",
      "dtypes: float64(1), int64(3), object(1)\n",
      "memory usage: 325.4+ KB\n"
     ]
    }
   ],
   "source": [
    "data.info()"
   ]
  },
  {
   "cell_type": "code",
   "execution_count": 24,
   "metadata": {},
   "outputs": [
    {
     "data": {
      "text/plain": [
       "id        8328\n",
       "grp          2\n",
       "active       1\n",
       "paying       2\n",
       "rev         39\n",
       "dtype: int64"
      ]
     },
     "execution_count": 24,
     "metadata": {},
     "output_type": "execute_result"
    }
   ],
   "source": [
    "data.nunique()"
   ]
  },
  {
   "cell_type": "code",
   "execution_count": 25,
   "metadata": {
    "scrolled": true
   },
   "outputs": [
    {
     "data": {
      "text/html": [
       "<div>\n",
       "<style scoped>\n",
       "    .dataframe tbody tr th:only-of-type {\n",
       "        vertical-align: middle;\n",
       "    }\n",
       "\n",
       "    .dataframe tbody tr th {\n",
       "        vertical-align: top;\n",
       "    }\n",
       "\n",
       "    .dataframe thead th {\n",
       "        text-align: right;\n",
       "    }\n",
       "</style>\n",
       "<table border=\"1\" class=\"dataframe\">\n",
       "  <thead>\n",
       "    <tr style=\"text-align: right;\">\n",
       "      <th></th>\n",
       "      <th>id</th>\n",
       "      <th>grp</th>\n",
       "      <th>active</th>\n",
       "      <th>paying</th>\n",
       "      <th>rev</th>\n",
       "    </tr>\n",
       "  </thead>\n",
       "  <tbody>\n",
       "  </tbody>\n",
       "</table>\n",
       "</div>"
      ],
      "text/plain": [
       "Empty DataFrame\n",
       "Columns: [id, grp, active, paying, rev]\n",
       "Index: []"
      ]
     },
     "execution_count": 25,
     "metadata": {},
     "output_type": "execute_result"
    }
   ],
   "source": [
    "data.query('paying == 1 and active == 0') # проверка, что теперь среди платящих пользователей нет неактивных"
   ]
  },
  {
   "cell_type": "code",
   "execution_count": null,
   "metadata": {},
   "outputs": [],
   "source": []
  },
  {
   "cell_type": "code",
   "execution_count": null,
   "metadata": {},
   "outputs": [],
   "source": []
  },
  {
   "cell_type": "code",
   "execution_count": null,
   "metadata": {},
   "outputs": [],
   "source": []
  },
  {
   "cell_type": "markdown",
   "metadata": {},
   "source": [
    "### Список метрик \n",
    "\n",
    "#### Целевая метрика:\n",
    "- CR (Conversion Rate) из активного пользователя в покупку\n",
    "\n",
    "#### Дополнительная метрика:\n",
    "- ARPU (Average revenue per user) - средний доход на пользователя\n",
    "\n",
    "#### Справочно:\n",
    "- ARPPU (Average revenue per paying user) - средний доход на платящего пользователя\n",
    "\n",
    "#### Пояснение:\n",
    "\n",
    "<b>Показатель конверсии - целевой</b>, потому что именно он показывает реакцию пользователей на новый дизайн: будут покупать больше или меньше. Какой именно из видов CR?  В эксперименте участвовали только пользователи, зашедшие на сайт, то есть активные пользователи. Поэтому из метрик конверсии показательным является только конверсия из активного пользователя в покупку. \n",
    "\n",
    "Также обычно ключевым является показатель среднего дохода с пользователя. Рассмотрим показатели ARPU/ARPPU:\n",
    "\n",
    "- ARPPU не подходит в качестве целевого, потому что возможны ситуации, когда ARPPU растет, но при этом общий доход падает из-за снижения кол-ва платящих пользователей или кол-ва оплат на пользователя. \n",
    "- ARPU более показателен. Нужно ли его считать целевой метрикой ?\n",
    "\n",
    "Посмотрим на формулу расчета ARPU:\n",
    "\n",
    "ARPU = CR из активности в покупку * ARPPU = CR из активности в покупку * среднее от (кол-во покупок у платящих пользователей * средний чек пользователя).\n",
    "\n",
    "Так как в данном эксперименте кол-во покупок у платящих пользователей = 1, то:\n",
    "\n",
    "ARPU = CR из активности в покупку * ср. чек\n",
    "\n",
    "Посмотрим на средний чек в контексте задачи: \n",
    "1. Была каким-то образом изменена механика оплаты, и неизвестно каким именно. Возможно, была предложена система оплаты в формате подписки, когда в первый месяц пользователь платит больше, чем в последующие. Или наоборот, в первый месяц пользователь платит меньше, чем в последующие. Оба варианта встречаются. И из-за этого месяц, в который совершена покупка, может быть непоказательным: доход искажен в большую или меньшую сторону.\n",
    "\n",
    "2. Судя по тому, что во входных данных колонки с id обозначены students_id, похоже, что это образовательная платформа. Здравый смысл подсказывает, что средний чек (и вообще чеки) определяется исходя из того, какие курсы интересны пользователям, а не исходя из удобства механики оплаты. Одни курсы дороже, другие курсы дешевле. Одни обширнее, другие короче. Еще меняются тренды на рынке труда, это тоже может повлиять на популярность тех или иных курсов.\n",
    "\n",
    "<b>С учетом последних двух абзацев окончательное решение о применении ARPU в качестве целевой метрики будет приниматься после обсуждения с коллегами, хорошо знакомыми с бизнесом и нюансами проводимого эксперимента</b>."
   ]
  },
  {
   "cell_type": "code",
   "execution_count": null,
   "metadata": {},
   "outputs": [],
   "source": []
  },
  {
   "cell_type": "code",
   "execution_count": null,
   "metadata": {},
   "outputs": [],
   "source": []
  },
  {
   "cell_type": "code",
   "execution_count": null,
   "metadata": {},
   "outputs": [],
   "source": []
  },
  {
   "cell_type": "markdown",
   "metadata": {},
   "source": [
    "### Расчет метрик"
   ]
  },
  {
   "cell_type": "code",
   "execution_count": 26,
   "metadata": {
    "scrolled": true
   },
   "outputs": [
    {
     "data": {
      "text/html": [
       "<div>\n",
       "<style scoped>\n",
       "    .dataframe tbody tr th:only-of-type {\n",
       "        vertical-align: middle;\n",
       "    }\n",
       "\n",
       "    .dataframe tbody tr th {\n",
       "        vertical-align: top;\n",
       "    }\n",
       "\n",
       "    .dataframe thead th {\n",
       "        text-align: right;\n",
       "    }\n",
       "</style>\n",
       "<table border=\"1\" class=\"dataframe\">\n",
       "  <thead>\n",
       "    <tr style=\"text-align: right;\">\n",
       "      <th></th>\n",
       "      <th>active</th>\n",
       "      <th>paying</th>\n",
       "      <th>rev</th>\n",
       "      <th>CR_active_to_paying</th>\n",
       "      <th>ARPU</th>\n",
       "      <th>ARPPU</th>\n",
       "    </tr>\n",
       "    <tr>\n",
       "      <th>grp</th>\n",
       "      <th></th>\n",
       "      <th></th>\n",
       "      <th></th>\n",
       "      <th></th>\n",
       "      <th></th>\n",
       "      <th></th>\n",
       "    </tr>\n",
       "  </thead>\n",
       "  <tbody>\n",
       "    <tr>\n",
       "      <th>A</th>\n",
       "      <td>1535</td>\n",
       "      <td>78</td>\n",
       "      <td>72820.0</td>\n",
       "      <td>5.08</td>\n",
       "      <td>47.4</td>\n",
       "      <td>933.6</td>\n",
       "    </tr>\n",
       "    <tr>\n",
       "      <th>B</th>\n",
       "      <td>6793</td>\n",
       "      <td>313</td>\n",
       "      <td>393074.0</td>\n",
       "      <td>4.61</td>\n",
       "      <td>57.9</td>\n",
       "      <td>1255.8</td>\n",
       "    </tr>\n",
       "  </tbody>\n",
       "</table>\n",
       "</div>"
      ],
      "text/plain": [
       "     active  paying       rev  CR_active_to_paying  ARPU   ARPPU\n",
       "grp                                                             \n",
       "A      1535      78   72820.0                 5.08  47.4   933.6\n",
       "B      6793     313  393074.0                 4.61  57.9  1255.8"
      ]
     },
     "execution_count": 26,
     "metadata": {},
     "output_type": "execute_result"
    }
   ],
   "source": [
    "# сгруппируем по группам A и B\n",
    "metrics = data.groupby('grp')\\\n",
    "                .aggregate({'active':'sum', 'paying':'sum', 'rev':'sum'})\\\n",
    "\n",
    "# рассчитаем метрики\n",
    "metrics['CR_active_to_paying'] = (metrics['paying'] / metrics['active'] * 100).round(2)\n",
    "metrics['ARPU'] = (metrics['rev'] / metrics['active']).round(1)\n",
    "metrics['ARPPU'] = (metrics['rev'] / metrics['paying']).round(1) # справочно\n",
    "metrics['rev'] = metrics['rev'].round(0)\n",
    "\n",
    "metrics"
   ]
  },
  {
   "cell_type": "markdown",
   "metadata": {},
   "source": [
    "#### Главное, что видим по таблице:\n",
    "- Конверсия из активного пользователя  в покупку (CR_active_to_paying) в тестовой группе ниже по сравнению с контрольной.\n",
    "- При этом ARPU в тестовой группе выше по сравнению с контрольной (за счет того, что ARPPU выше).\n",
    "\n",
    "Проверим значимость различий статистически."
   ]
  },
  {
   "cell_type": "code",
   "execution_count": null,
   "metadata": {},
   "outputs": [],
   "source": []
  },
  {
   "cell_type": "code",
   "execution_count": null,
   "metadata": {},
   "outputs": [],
   "source": []
  },
  {
   "cell_type": "code",
   "execution_count": null,
   "metadata": {},
   "outputs": [],
   "source": []
  },
  {
   "cell_type": "markdown",
   "metadata": {},
   "source": [
    "### Проверим значимость различий CR из активного пользователя в покупку"
   ]
  },
  {
   "cell_type": "code",
   "execution_count": 28,
   "metadata": {},
   "outputs": [
    {
     "data": {
      "text/plain": [
       "grp\n",
       "A    5.08\n",
       "B    4.61\n",
       "Name: CR_active_to_paying, dtype: float64"
      ]
     },
     "execution_count": 28,
     "metadata": {},
     "output_type": "execute_result"
    }
   ],
   "source": [
    "metrics['CR_active_to_paying']"
   ]
  },
  {
   "cell_type": "markdown",
   "metadata": {},
   "source": [
    "CR из активного пользователя в покупку = кол-во платящих пользователей / кол-во активных пользователей \n",
    "\n",
    "Построим график, отражающий соотношение платящих и неплатящих пользователей по группам. Видим, что визуализация не дает возможности сделать выводы, необходим статистический тест."
   ]
  },
  {
   "cell_type": "code",
   "execution_count": 29,
   "metadata": {},
   "outputs": [
    {
     "data": {
      "text/plain": [
       "<matplotlib.axes._subplots.AxesSubplot at 0x7ffb3a509550>"
      ]
     },
     "execution_count": 29,
     "metadata": {},
     "output_type": "execute_result"
    },
    {
     "data": {
      "image/png": "[encoded data removed]",
      "text/plain": [
       "<Figure size 576x288 with 1 Axes>"
      ]
     },
     "metadata": {},
     "output_type": "display_data"
    }
   ],
   "source": [
    "sns.set(rc={'figure.figsize':(8,4)}, style=\"whitegrid\")\n",
    "\n",
    "sns.countplot(data = data, x = 'grp', hue = 'paying')"
   ]
  },
  {
   "cell_type": "markdown",
   "metadata": {},
   "source": [
    "Чтобы проверить значимость различий, проведем статистический тест. Так как есть две категориальные переменные (группа пользователя и платящий ли он), то будем использовать тест <b> Хи-квадрат</b>. Определим гипотезы теста:\n",
    "\n",
    "- 𝐻0: нет взаимосвязи между тем, какая схема оплаты предлагалась пользователям, и конверсией в оплату\n",
    "- 𝐻1: есть взаимосвязь между тем, какая схема оплаты предлагалась пользователям, и конверсией в оплату\n",
    "\n",
    "Уровень значимости альфа определим на уровне 0.05.\n",
    "\n",
    "Я выбираю тест из библитеки pingouin, так он содержит много интересной информации:"
   ]
  },
  {
   "cell_type": "code",
   "execution_count": 30,
   "metadata": {},
   "outputs": [
    {
     "data": {
      "text/plain": [
       "(paying            0           1\n",
       " grp                            \n",
       " A       1462.931676   72.068324\n",
       " B       6474.068324  318.931676,\n",
       " paying       0      1\n",
       " grp                  \n",
       " A       1457.5   77.5\n",
       " B       6479.5  313.5,\n",
       "                  test    lambda      chi2  dof      pval    cramer     power\n",
       " 0             pearson  1.000000  0.526607  1.0  0.468037  0.007952  0.112168\n",
       " 1        cressie-read  0.666667  0.523446  1.0  0.469375  0.007928  0.111786\n",
       " 2      log-likelihood  0.000000  0.517247  1.0  0.472019  0.007881  0.111037\n",
       " 3       freeman-tukey -0.500000  0.512702  1.0  0.473971  0.007846  0.110488\n",
       " 4  mod-log-likelihood -1.000000  0.508246  1.0  0.475899  0.007812  0.109950\n",
       " 5              neyman -2.000000  0.499590  1.0  0.479680  0.007745  0.108905)"
      ]
     },
     "execution_count": 30,
     "metadata": {},
     "output_type": "execute_result"
    }
   ],
   "source": [
    "pg.chi2_independence(data, x = 'grp', y = 'paying')"
   ]
  },
  {
   "cell_type": "markdown",
   "metadata": {},
   "source": [
    "#### Интерпретируем результат:\n",
    "\n",
    "Первая таблица - таблица ожидаемых значений, вторая таблица - таблица наблюдаемых значений.\n",
    "Далее непосредственно итоги теста. Нас интересует главным образом два показателя pval и power по Пирсону.\n",
    "- p-value составил около 0.47. Это существенно выше альфа уровня значимости 0.05. Значит мы не можем отклонить нулевую гипотезу. Статистически значимая взаимосвязь группы пользователя с тем, совершил ли он покупку, не подтверждена.\n",
    "- power - это мощность теста. power = 1 - вероятность совершить ошибку 2 рода. Мы получили очень низкую мощность 0.11, значит вероятность ошибки второго рода около 0.89 (того, что мы не отклоним нулевую гипотезу при реально имеющихся различиях). \n",
    "\n",
    "Причина низкой мощности в недостаточном размере групп, чтобы задетектировать полученный эффект. Размер групп определяется исходя из MDE - минимального различия, интересного бизнесу. Полученный эффект оказался ниже, чем заложенный перед стратом эксперимента MDE, а значит обнаруженный эффект не интересен бизнесу - слишком незначителен для нашей компании. \n",
    "\n",
    "Второй вариант интерпретации низкой мощности: эксперимент был проведен неправильно, группы набраны недостаточного размера, чтобы обеспечить высокую мощность теста (не менее 0.8)."
   ]
  },
  {
   "cell_type": "markdown",
   "metadata": {},
   "source": [
    "### Итог статистического теста по CR: \n",
    "Конверсия из активного пользователя в покупку (CR_active_to_paying) в тестовой группе ниже по сравнению с контрольной. При этом в ходе статистического теста не удалось отклонить нулевую гипотезу об отсутствии взаимосвязи между тем, какая схема оплаты предлагалась пользователям, и конверсией в оплату. При этом мощность теста оказалась слишком низкой, велика вероятность ошибки 2 рода."
   ]
  },
  {
   "cell_type": "code",
   "execution_count": null,
   "metadata": {},
   "outputs": [],
   "source": []
  },
  {
   "cell_type": "code",
   "execution_count": null,
   "metadata": {},
   "outputs": [],
   "source": []
  },
  {
   "cell_type": "code",
   "execution_count": null,
   "metadata": {},
   "outputs": [],
   "source": []
  },
  {
   "cell_type": "markdown",
   "metadata": {},
   "source": [
    "### Проверим значимость различий ARPU (средний доход по активным пользователям)"
   ]
  },
  {
   "cell_type": "code",
   "execution_count": 31,
   "metadata": {},
   "outputs": [
    {
     "data": {
      "text/plain": [
       "grp\n",
       "A    47.4\n",
       "B    57.9\n",
       "Name: ARPU, dtype: float64"
      ]
     },
     "execution_count": 31,
     "metadata": {},
     "output_type": "execute_result"
    }
   ],
   "source": [
    "metrics['ARPU']"
   ]
  },
  {
   "cell_type": "markdown",
   "metadata": {},
   "source": [
    "Построим график распределения revenue по активным пользователям. По графику видно, что распределение далеко от нормального. Основная масса наблюдений сосредоточена в 0, а остальных значений так мало, что на графике их почти не видно. Распределение по своей форме напоминает tweedie-распределение."
   ]
  },
  {
   "cell_type": "code",
   "execution_count": 32,
   "metadata": {},
   "outputs": [
    {
     "data": {
      "text/plain": [
       "<matplotlib.axes._subplots.AxesSubplot at 0x7ffb3a409d68>"
      ]
     },
     "execution_count": 32,
     "metadata": {},
     "output_type": "execute_result"
    },
    {
     "data": {
      "image/png": "[encoded data removed]",
      "text/plain": [
       "<Figure size 2160x576 with 1 Axes>"
      ]
     },
     "metadata": {},
     "output_type": "display_data"
    }
   ],
   "source": [
    "sns.set(rc={'figure.figsize':(30,8)}, style=\"whitegrid\")\n",
    "\n",
    "sns.countplot(data = data, x = 'rev', hue = 'grp')"
   ]
  },
  {
   "cell_type": "markdown",
   "metadata": {},
   "source": [
    "Построим qqplot, чтобы проверить нормальность. Очевидно, данные не нормальные в обеих группах."
   ]
  },
  {
   "cell_type": "code",
   "execution_count": 33,
   "metadata": {},
   "outputs": [
    {
     "data": {
      "text/plain": [
       "Text(0.5, 1.0, 'группа B')"
      ]
     },
     "execution_count": 33,
     "metadata": {},
     "output_type": "execute_result"
    },
    {
     "data": {
      "image/png": "[encoded data removed]",
      "text/plain": [
       "<Figure size 360x288 with 1 Axes>"
      ]
     },
     "metadata": {},
     "output_type": "display_data"
    },
    {
     "data": {
      "image/png": "[encoded data removed]",
      "text/plain": [
       "<Figure size 360x288 with 1 Axes>"
      ]
     },
     "metadata": {},
     "output_type": "display_data"
    }
   ],
   "source": [
    "pg.qqplot(data.query(\"grp == 'A'\").rev)\n",
    "plt.title('группа A')\n",
    "pg.qqplot(data.query(\"grp == 'B'\").rev)\n",
    "plt.title('группа B')"
   ]
  },
  {
   "cell_type": "markdown",
   "metadata": {},
   "source": [
    "#### Проверим нормальность распределения с помощью статистического теста. \n",
    "Для этого воспользуюсь тестом из библиотеки pingouin. Определим гипотезы теста:\n",
    "\n",
    "- 𝐻0: распределение является нормальным\n",
    "- 𝐻1: распределение не является нормальным\n",
    "\n",
    "Уровень значимости определим как 0,05."
   ]
  },
  {
   "cell_type": "code",
   "execution_count": 34,
   "metadata": {},
   "outputs": [
    {
     "name": "stdout",
     "output_type": "stream",
     "text": [
      "               W  pval  normal\n",
      "rev  2235.003893   0.0   False  для группы А\n",
      "               W  pval  normal\n",
      "rev  7799.583992   0.0   False  для группы B\n"
     ]
    }
   ],
   "source": [
    "print(pg.normality(data.query(\"grp == 'A'\").rev, method='normaltest'), ' для группы А')\n",
    "print(pg.normality(data.query(\"grp == 'B'\").rev, method='normaltest'), ' для группы B')"
   ]
  },
  {
   "cell_type": "markdown",
   "metadata": {},
   "source": [
    "p-value для обоих групп меньше, чем 0,05. Следовательно, мы можем отклонить нулевую гипотезу. Распределение в обоих группах не является нормальным."
   ]
  },
  {
   "cell_type": "markdown",
   "metadata": {},
   "source": [
    "#### Проверим различия в дисперсиях групп с помощью статистического теста Левена.\n",
    "- 𝐻0: дисперсии в группах не различаются\n",
    "- 𝐻1: дисперсии в группах различаются\n",
    "\n",
    "Уровень значимости определим как 0,05."
   ]
  },
  {
   "cell_type": "code",
   "execution_count": 35,
   "metadata": {},
   "outputs": [
    {
     "data": {
      "text/html": [
       "<div>\n",
       "<style scoped>\n",
       "    .dataframe tbody tr th:only-of-type {\n",
       "        vertical-align: middle;\n",
       "    }\n",
       "\n",
       "    .dataframe tbody tr th {\n",
       "        vertical-align: top;\n",
       "    }\n",
       "\n",
       "    .dataframe thead th {\n",
       "        text-align: right;\n",
       "    }\n",
       "</style>\n",
       "<table border=\"1\" class=\"dataframe\">\n",
       "  <thead>\n",
       "    <tr style=\"text-align: right;\">\n",
       "      <th></th>\n",
       "      <th>W</th>\n",
       "      <th>pval</th>\n",
       "      <th>equal_var</th>\n",
       "    </tr>\n",
       "  </thead>\n",
       "  <tbody>\n",
       "    <tr>\n",
       "      <th>levene</th>\n",
       "      <td>1.423391</td>\n",
       "      <td>0.23288</td>\n",
       "      <td>True</td>\n",
       "    </tr>\n",
       "  </tbody>\n",
       "</table>\n",
       "</div>"
      ],
      "text/plain": [
       "               W     pval  equal_var\n",
       "levene  1.423391  0.23288       True"
      ]
     },
     "execution_count": 35,
     "metadata": {},
     "output_type": "execute_result"
    }
   ],
   "source": [
    "pg.homoscedasticity(data, dv=\"rev\", group=\"grp\")"
   ]
  },
  {
   "cell_type": "markdown",
   "metadata": {},
   "source": [
    "p-value больше, чем уровень значимости 0,05. Значит мы не можем отклонить нулевую гипотезу, дисперсии в группах не различаются."
   ]
  },
  {
   "cell_type": "markdown",
   "metadata": {},
   "source": [
    "#### Проверим различие в средних (различие в метрике ARPU) с помощью т-теста\n",
    "Для проведения т-теста должны выполняться 2 условия:  \n",
    "1. Дисперсии внутри групп должны быть примерно одинаковы (требование гомогенности дисперсий)\n",
    "2. Распределение в обоих группах должно быть нормальным\n",
    "\n",
    "Требование гомогенности дисперсий выполняется. Требование нормальности распределений не выполняется. Однако, у нас большие размеры групп (кол-во наблюдение существенно выше 30), значит распределение средних стремится к нормальному. Это позволяет использовать т-тест.\n",
    "\n",
    "Определим гипотезы теста:\n",
    "\n",
    "- 𝐻0: различия между ARPU нет\n",
    "- 𝐻1: различие между ARPU есть\n",
    "\n",
    "Уровень значимости определим как 0,05."
   ]
  },
  {
   "cell_type": "code",
   "execution_count": 36,
   "metadata": {
    "scrolled": true
   },
   "outputs": [
    {
     "data": {
      "text/html": [
       "<div>\n",
       "<style scoped>\n",
       "    .dataframe tbody tr th:only-of-type {\n",
       "        vertical-align: middle;\n",
       "    }\n",
       "\n",
       "    .dataframe tbody tr th {\n",
       "        vertical-align: top;\n",
       "    }\n",
       "\n",
       "    .dataframe thead th {\n",
       "        text-align: right;\n",
       "    }\n",
       "</style>\n",
       "<table border=\"1\" class=\"dataframe\">\n",
       "  <thead>\n",
       "    <tr style=\"text-align: right;\">\n",
       "      <th></th>\n",
       "      <th>T</th>\n",
       "      <th>dof</th>\n",
       "      <th>alternative</th>\n",
       "      <th>p-val</th>\n",
       "      <th>CI95%</th>\n",
       "      <th>cohen-d</th>\n",
       "      <th>BF10</th>\n",
       "      <th>power</th>\n",
       "    </tr>\n",
       "  </thead>\n",
       "  <tbody>\n",
       "    <tr>\n",
       "      <th>T-test</th>\n",
       "      <td>-1.250311</td>\n",
       "      <td>2406.43932</td>\n",
       "      <td>two-sided</td>\n",
       "      <td>0.211308</td>\n",
       "      <td>[-26.77, 5.93]</td>\n",
       "      <td>0.033717</td>\n",
       "      <td>0.069</td>\n",
       "      <td>0.222337</td>\n",
       "    </tr>\n",
       "  </tbody>\n",
       "</table>\n",
       "</div>"
      ],
      "text/plain": [
       "               T         dof alternative     p-val           CI95%   cohen-d  \\\n",
       "T-test -1.250311  2406.43932   two-sided  0.211308  [-26.77, 5.93]  0.033717   \n",
       "\n",
       "         BF10     power  \n",
       "T-test  0.069  0.222337  "
      ]
     },
     "execution_count": 36,
     "metadata": {},
     "output_type": "execute_result"
    }
   ],
   "source": [
    "pg.ttest(data.query(\"grp == 'A'\").rev, data.query(\"grp == 'B'\").rev)"
   ]
  },
  {
   "cell_type": "markdown",
   "metadata": {},
   "source": [
    "#### Интерпретация результатов тестa:\n",
    "p-value больше, чем уровень значимости 0,05. Значит мы не можем отклонить нулевую гипотезу, статистически значимого различия между ARPU в тестовой и контрольной группах не выявлено. Однако при этом pingouin дает информацию о низкой мощности теста. Она равна 0.22, значит ошибка второго рода очень высока 0.78. Возможные причины этого написаны выше (см. интерпретацию результата теста по CR)."
   ]
  },
  {
   "cell_type": "markdown",
   "metadata": {},
   "source": [
    "### Итог статистического теста по ARPU: \n",
    "ARPU в тестовой группе выше по сравнению с контрольной. При этом в ходе статистического теста (т-теста) не удалось отклонить нулевую гипотезу об отсутствии различий между ARPU в тестовой и контрольной группах, значит cтатистически значимого различия между ARPU в тестовой и контрольной группах не выявлено. При этом мощность теста оказалась очень низкой, велика вероятность ошибки 2 рода."
   ]
  },
  {
   "cell_type": "code",
   "execution_count": null,
   "metadata": {},
   "outputs": [],
   "source": []
  },
  {
   "cell_type": "code",
   "execution_count": null,
   "metadata": {},
   "outputs": [],
   "source": []
  },
  {
   "cell_type": "code",
   "execution_count": null,
   "metadata": {},
   "outputs": [],
   "source": []
  },
  {
   "cell_type": "markdown",
   "metadata": {},
   "source": [
    "### Общие итоги эксперимента"
   ]
  },
  {
   "cell_type": "markdown",
   "metadata": {},
   "source": [
    "#### По итогу эксперимента мы имеем следующие метрики:"
   ]
  },
  {
   "cell_type": "code",
   "execution_count": 37,
   "metadata": {},
   "outputs": [
    {
     "data": {
      "text/html": [
       "<div>\n",
       "<style scoped>\n",
       "    .dataframe tbody tr th:only-of-type {\n",
       "        vertical-align: middle;\n",
       "    }\n",
       "\n",
       "    .dataframe tbody tr th {\n",
       "        vertical-align: top;\n",
       "    }\n",
       "\n",
       "    .dataframe thead th {\n",
       "        text-align: right;\n",
       "    }\n",
       "</style>\n",
       "<table border=\"1\" class=\"dataframe\">\n",
       "  <thead>\n",
       "    <tr style=\"text-align: right;\">\n",
       "      <th></th>\n",
       "      <th>CR_active_to_paying</th>\n",
       "      <th>ARPU</th>\n",
       "    </tr>\n",
       "    <tr>\n",
       "      <th>grp</th>\n",
       "      <th></th>\n",
       "      <th></th>\n",
       "    </tr>\n",
       "  </thead>\n",
       "  <tbody>\n",
       "    <tr>\n",
       "      <th>A</th>\n",
       "      <td>5.08</td>\n",
       "      <td>47.4</td>\n",
       "    </tr>\n",
       "    <tr>\n",
       "      <th>B</th>\n",
       "      <td>4.61</td>\n",
       "      <td>57.9</td>\n",
       "    </tr>\n",
       "  </tbody>\n",
       "</table>\n",
       "</div>"
      ],
      "text/plain": [
       "     CR_active_to_paying  ARPU\n",
       "grp                           \n",
       "A                   5.08  47.4\n",
       "B                   4.61  57.9"
      ]
     },
     "execution_count": 37,
     "metadata": {},
     "output_type": "execute_result"
    }
   ],
   "source": [
    "metrics[['CR_active_to_paying','ARPU']]"
   ]
  },
  {
   "cell_type": "code",
   "execution_count": 38,
   "metadata": {},
   "outputs": [
    {
     "name": "stdout",
     "output_type": "stream",
     "text": [
      "-9.3 22.2\n"
     ]
    }
   ],
   "source": [
    "#Рассчитаем различия метрик в относительном выражении:\n",
    "\n",
    "CR_growth =np.round((metrics.CR_active_to_paying.loc['B']/metrics.CR_active_to_paying.loc['A']-1)*100, 1)\n",
    "ARPU_growth =np.round((metrics.ARPU.loc['B']/metrics.ARPU.loc['A']-1)*100, 1)\n",
    "\n",
    "print(CR_growth, ARPU_growth)"
   ]
  },
  {
   "cell_type": "markdown",
   "metadata": {},
   "source": [
    "#### Получили следующие различия метрик:\n",
    "\n",
    "- CR из активного пользователя в покупку: в тестовой группе -9.3% по сравнению с контрольной. Различия не оказались статистически значимыми (проведен тест хи-квадрат). При этом тест показал низкую мощность.\n",
    "\n",
    "- ARPU : в тестовой группе +22.2% по сравнению с контрольной. Различия не оказались статистически значимыми (проведен т-тест). При этом тест показал низкую мощность."
   ]
  },
  {
   "cell_type": "markdown",
   "metadata": {},
   "source": [
    "#### Выводы:\n",
    "\n",
    "Целевая метрика \"CR из активности в покупку\" не отличается значимо в двух группах, при этом вектор ее изменения - на снижение в тестовой группе по сравнению с контрольной. Мощность теста получена низкая, это значит что:\n",
    "- либо в изначальный дизайн теста был заложен MDE больший, чем полученный эффект, значит для компании полученный эффект неинтересен\n",
    "- либо неправильный дизайн эксперимента: недостаточный объем групп, чтобы подтвердить значимость различий\n",
    "\n",
    "В обоих случаях <b>механику оплаты менять не надо</b>.\n",
    "\n",
    "По поводу ARPU необходима информация от коллег - стоит ли считать метрику ARPU целевой или нет (мои сомнения на эту тему изложены выше на этапе выбора целевой метрики, мною она не принята целевой). Возможно, коллеги подтвердят, что да - ARPU надо рассматривать в качестве целевой метрики. Тогда мы упираемся в то, что в ходе статистического теста положительные изменения не оказались статистически значимыми, значит раскатывать механику на всех не надо. "
   ]
  }
 ],
 "metadata": {
  "kernelspec": {
   "display_name": "Python 3",
   "language": "python",
   "name": "python3"
  },
  "language_info": {
   "codemirror_mode": {
    "name": "ipython",
    "version": 3
   },
   "file_extension": ".py",
   "mimetype": "text/x-python",
   "name": "python",
   "nbconvert_exporter": "python",
   "pygments_lexer": "ipython3",
   "version": "3.7.3"
  }
 },
 "nbformat": 4,
 "nbformat_minor": 4
}
